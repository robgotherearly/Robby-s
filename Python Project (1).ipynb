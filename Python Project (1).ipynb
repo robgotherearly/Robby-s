{
 "cells": [
  {
   "cell_type": "markdown",
   "id": "3263ad36",
   "metadata": {},
   "source": [
    "## Python Data Science First Project"
   ]
  },
  {
   "cell_type": "code",
   "execution_count": null,
   "id": "dd9757aa",
   "metadata": {},
   "outputs": [],
   "source": [
    "!pip install yfinance\n",
    "!pip install nbformat\n",
    "!pip install html5lib \n",
    "!pip install bs4\n",
    "\n"
   ]
  },
  {
   "cell_type": "code",
   "execution_count": null,
   "id": "fb57e2e3",
   "metadata": {},
   "outputs": [],
   "source": [
    "import yfinance as yf\n",
    "import pandas as pd\n",
    "import requests\n",
    "from bs4 import BeautifulSoup\n",
    "import plotly.graph_objects as go\n",
    "from plotly.subplots import make_subplots"
   ]
  },
  {
   "cell_type": "markdown",
   "id": "4f07da48",
   "metadata": {},
   "source": [
    "## Define Graphing Function"
   ]
  },
  {
   "cell_type": "code",
   "execution_count": null,
   "id": "0012b92c",
   "metadata": {},
   "outputs": [],
   "source": [
    "\n",
    "def make_graph(stock_data, revenue_data, stock):\n",
    "    fig = make_subplots(rows=2, cols=1, shared_xaxes=True, subplot_titles=(\"Historical Share Price\", \"Historical Revenue\"), vertical_spacing = .3)\n",
    "    stock_data_specific = stock_data[stock_data.Date <= '2021--06-14']\n",
    "    revenue_data_specific = revenue_data[revenue_data.Date <= '2021-04-30']\n",
    "    fig.add_trace(go.Scatter(x=pd.to_datetime(stock_data_specific.Date), y=stock_data_specific.Close.astype(\"float\"), name=\"Share Price\"), row=1, col=1)\n",
    "    fig.add_trace(go.Scatter(x=pd.to_datetime(revenue_data_specific.Date), y=revenue_data_specific.Revenue.astype(\"float\"), name=\"Revenue\"), row=2, col=1)\n",
    "    fig.update_xaxes(title_text=\"Date\", row=1, col=1)\n",
    "    fig.update_xaxes(title_text=\"Date\", row=2, col=1)\n",
    "    fig.update_yaxes(title_text=\"Price ($US)\", row=1, col=1)\n",
    "    fig.update_yaxes(title_text=\"Revenue ($US Millions)\", row=2, col=1)\n",
    "    fig.update_layout(showlegend=False,\n",
    "    height=900,\n",
    "    title=stock,\n",
    "    xaxis_rangeslider_visible=True)\n",
    "    fig.show()\n"
   ]
  },
  {
   "cell_type": "markdown",
   "id": "d16713e6",
   "metadata": {},
   "source": [
    "##  Use yfinance to Extract Stock Data"
   ]
  },
  {
   "cell_type": "code",
   "execution_count": null,
   "id": "26c099b8",
   "metadata": {},
   "outputs": [],
   "source": [
    "#Using the Ticker function enter the ticker symbol of the stock we want to extract data on to create a ticker object. \n",
    "#The stock is Apple and its ticker symbol is AAPL.\n",
    "aapl = yf.Ticker(\"AAPL\")\n",
    "print(aapl)"
   ]
  },
  {
   "cell_type": "code",
   "execution_count": null,
   "id": "7ffb8af5",
   "metadata": {},
   "outputs": [],
   "source": [
    "#Using the ticker object and the function history extract stock information and save it in a dataframe named aapl_data. \n",
    "#Set the period parameter to max so we get information for the maximum amount of time.\n",
    "\n",
    "m = aapl.history(period=\"max\")\n",
    "aapl_data = pd.DataFrame(m)"
   ]
  },
  {
   "cell_type": "code",
   "execution_count": null,
   "id": "145d953a",
   "metadata": {},
   "outputs": [],
   "source": [
    "#Reset the index using the reset_index(inplace=True) function on the aapl_data DataFrame and display the first five rows of the aapl_data dataframe using the head function. \n",
    "#Take a screenshot of the results and code from the beginning of Question 1 to the results below.\n",
    "\n",
    "aapl_data.reset_index(inplace=True)\n",
    "aapl_data.head()"
   ]
  },
  {
   "cell_type": "markdown",
   "id": "94d8ace3",
   "metadata": {},
   "source": [
    "## Use Webscraping to Extract Apple Revenue Data"
   ]
  },
  {
   "cell_type": "code",
   "execution_count": null,
   "id": "309d3ff2",
   "metadata": {},
   "outputs": [],
   "source": [
    "#Use the requests library to download the webpage https://www.macrotrends.net/stocks/charts/AAPL/apple/revenue\n",
    "#Save the text of the response as a variable named html_data.\n",
    "\n",
    "url = 'https://www.macrotrends.net/stocks/charts/AAPL/apple/revenue'\n",
    "html_data = requests.get(url).text"
   ]
  },
  {
   "cell_type": "code",
   "execution_count": null,
   "id": "f9cc1d2e",
   "metadata": {},
   "outputs": [],
   "source": [
    "#Parse the html data using beautiful_soup.\n",
    "soup = BeautifulSoup(html_data, \"html.parser\")"
   ]
  },
  {
   "cell_type": "code",
   "execution_count": null,
   "id": "b73adfec",
   "metadata": {},
   "outputs": [],
   "source": [
    "#Using BeautifulSoup or the read_html function extract \n",
    "#the table with Apple Quarterly Revenue and store it into a dataframe named aapl_revenue.\n",
    "#The dataframe should have columns Date and Revenue.\n",
    "\n",
    "tables = soup.find_all('table')\n",
    "\n",
    "for index,table in enumerate (tables):\n",
    "    if(\"Apple Quarterly Revenue\" in str(table)):\n",
    "        table_index = index\n",
    "table_index\n",
    "\n",
    "aapl_revenue = pd.DataFrame(columns=[\"Date\",\"Revenue\"])\n",
    "\n",
    "for row in tables[table_index].tbody.find_all('tr'):\n",
    "    col = row.find_all('td')\n",
    "    date = col[0].text.strip()\n",
    "    revenue = col[1].text.strip()\n",
    "    if date != '' and revenue != '':\n",
    "        aapl_revenue.loc[len(aapl_revenue)] = [date, revenue]\n",
    "        \n",
    "aapl_revenue.head()"
   ]
  },
  {
   "cell_type": "markdown",
   "id": "9ffcedcd",
   "metadata": {},
   "source": [
    "\n",
    "## You can use this way"
   ]
  },
  {
   "cell_type": "code",
   "execution_count": null,
   "id": "d46e2d0a",
   "metadata": {},
   "outputs": [],
   "source": [
    "# url = \"https://www.macrotrends.net/stocks/charts/AAPL/apple/revenue\"\n",
    "# response = requests.get(url)\n",
    "# soup = BeautifulSoup(response.content, 'html.parser')\n",
    "\n",
    "\n",
    "# for index,table in enumerate(tables):\n",
    "#     if(\"Apple Quarterly Revenue\" in str(table)):\n",
    "#         table_index = index\n",
    "\n",
    "\n",
    "# data = pd.read_html(str(tables[table_index]))\n",
    "# df = pd.DataFrame(data[0])\n",
    "\n",
    "# df.columns = ['Date', 'Revenue']\n",
    "# df.head()"
   ]
  },
  {
   "cell_type": "code",
   "execution_count": null,
   "id": "bd2462d4",
   "metadata": {},
   "outputs": [],
   "source": [
    "#Execute the following line to remove the comma and dollar sign from the Revenue column.\n",
    "\n",
    "aapl_revenue['Revenue'] = aapl_revenue['Revenue'].str.replace(',', '').str.replace('$', '')"
   ]
  },
  {
   "cell_type": "code",
   "execution_count": null,
   "id": "c0471ea5",
   "metadata": {},
   "outputs": [],
   "source": [
    "#To check if our code worked\n",
    "aapl_revenue.head()"
   ]
  },
  {
   "cell_type": "code",
   "execution_count": null,
   "id": "04780301",
   "metadata": {},
   "outputs": [],
   "source": [
    "#Execute the following lines to remove an null or empty strings in the Revenue column.\n",
    "aapl_revenue.dropna(inplace=True)\n",
    "\n",
    "aapl_revenue = aapl_revenue[aapl_revenue['Revenue'] != \"\"]"
   ]
  },
  {
   "cell_type": "markdown",
   "id": "916b909b",
   "metadata": {},
   "source": [
    "## Use yfinance to Extract Stock Data"
   ]
  },
  {
   "cell_type": "code",
   "execution_count": null,
   "id": "efccca28",
   "metadata": {},
   "outputs": [],
   "source": [
    "#Using the Ticker function enter the ticker symbol of the stock we want to extract data on to create a ticker object. \n",
    "#The stock is Microsoft and its ticker symbol is MSFT.\n",
    "msft = yf.Ticker(\"MSFT\")\n",
    "print(msft)"
   ]
  },
  {
   "cell_type": "code",
   "execution_count": null,
   "id": "23da4378",
   "metadata": {},
   "outputs": [],
   "source": [
    "#Using the ticker object and the function history extract stock information and save it in a dataframe named msft_data. \n",
    "#Set the period parameter to max so we get information for the maximum amount of time.\n",
    "\n",
    "msft_history = msft.history(period=\"max\")\n",
    "msft_data = pd.DataFrame(msft_history)"
   ]
  },
  {
   "cell_type": "code",
   "execution_count": null,
   "id": "3a6be691",
   "metadata": {},
   "outputs": [],
   "source": [
    "#Reset the index using the reset_index(inplace=True) function on the msft_data DataFrame and display the first five rows of the msft_data dataframe using the head function. \n",
    "#Take a screenshot of the results and code from the beginning of Question 1 to the results below.\n",
    "\n",
    "msft_data.reset_index(inplace=True)\n",
    "msft_data.head()"
   ]
  },
  {
   "cell_type": "markdown",
   "id": "1d03b1cd",
   "metadata": {},
   "source": [
    "## Use Webscraping to Extract Apple Revenue Data"
   ]
  },
  {
   "cell_type": "code",
   "execution_count": null,
   "id": "c559d223",
   "metadata": {},
   "outputs": [],
   "source": [
    "#Use the requests library to download the webpage https://www.macrotrends.net/stocks/charts/MSFT/microsoft/revenue\n",
    "#Save the text of the response as a variable named html_data.\n",
    "url = 'https://www.macrotrends.net/stocks/charts/MSFT/microsoft/revenue'\n",
    "msft_quest = requests.get(url).text"
   ]
  },
  {
   "cell_type": "code",
   "execution_count": null,
   "id": "3d30349f",
   "metadata": {},
   "outputs": [],
   "source": [
    "#Parse the html data using beautiful_soup.\n",
    "soup = BeautifulSoup(msft_quest,\"html.parser\")"
   ]
  },
  {
   "cell_type": "code",
   "execution_count": null,
   "id": "a9194ef3",
   "metadata": {},
   "outputs": [],
   "source": [
    "#Using BeautifulSoup or the read_html function extract \n",
    "#the table with Microsoft Quarterly Revenue and store it into a dataframe named aapl_revenue.\n",
    "#The dataframe should have columns Date and Revenue.\n",
    "\n",
    "tables =soup.find_all('table')\n",
    "\n",
    "for index,table in enumerate (tables):\n",
    "    if(\"Microsoft Quarterly Revenue\" in str(table)):\n",
    "        table_index = index\n",
    "table_index\n",
    "\n",
    "msft_revenue = pd.DataFrame(columns=[\"Date\",\"Revenue\"])\n",
    "\n",
    "for row in tables[table_index].tbody.find_all('tr'):\n",
    "    col = row.find_all('td')\n",
    "    date = col[0].text.strip()\n",
    "    revenue = col[1].text.strip()\n",
    "    if date != '' and revenue != '':\n",
    "        msft_revenue.loc[len(msft_revenue)] = [date, revenue]\n",
    "    \n",
    "msft_revenue.head()"
   ]
  },
  {
   "cell_type": "code",
   "execution_count": null,
   "id": "98891b7d",
   "metadata": {},
   "outputs": [],
   "source": [
    "#Execute the following line to remove the comma and dollar sign from the Revenue column.\n",
    "msft_revenue['Revenue'] = msft_revenue['Revenue'].str.replace(',', '').str.replace('$', '')"
   ]
  },
  {
   "cell_type": "code",
   "execution_count": null,
   "id": "0d72c975",
   "metadata": {},
   "outputs": [],
   "source": [
    "#To check if our code worked\n",
    "msft_revenue.head()"
   ]
  },
  {
   "cell_type": "code",
   "execution_count": null,
   "id": "9fa2df00",
   "metadata": {},
   "outputs": [],
   "source": [
    "#Execute the following lines to remove an null or empty strings in the Revenue column.\n",
    "msft_revenue.dropna(inplace=True)\n",
    "\n",
    "msft_revenue = msft_revenue[msft_revenue['Revenue'] != \"\"]"
   ]
  },
  {
   "cell_type": "code",
   "execution_count": null,
   "id": "5578f1fd",
   "metadata": {},
   "outputs": [],
   "source": [
    "make_graph(aapl_data,aapl_revenue,\"Apple\")"
   ]
  },
  {
   "cell_type": "code",
   "execution_count": null,
   "id": "4bf6bd7b",
   "metadata": {},
   "outputs": [],
   "source": [
    "make_graph(msft_data,msft_revenue,\"Microsoft\")"
   ]
  }
 ],
 "metadata": {
  "kernelspec": {
   "display_name": "Python 3 (ipykernel)",
   "language": "python",
   "name": "python3"
  },
  "language_info": {
   "codemirror_mode": {
    "name": "ipython",
    "version": 3
   },
   "file_extension": ".py",
   "mimetype": "text/x-python",
   "name": "python",
   "nbconvert_exporter": "python",
   "pygments_lexer": "ipython3",
   "version": "3.9.7"
  }
 },
 "nbformat": 4,
 "nbformat_minor": 5
}
